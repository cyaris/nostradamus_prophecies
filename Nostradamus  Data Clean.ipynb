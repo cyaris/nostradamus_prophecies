{
 "cells": [
  {
   "cell_type": "code",
   "execution_count": 1,
   "metadata": {},
   "outputs": [],
   "source": [
    "from copy import deepcopy\n",
    "import pandas as pd\n",
    "import numpy as np\n",
    "from pymongo import MongoClient"
   ]
  },
  {
   "cell_type": "code",
   "execution_count": 35,
   "metadata": {},
   "outputs": [],
   "source": [
    "# imported custom function to replace text keys with values in a substitution dictionary.\n",
    "from my_functions import replace"
   ]
  },
  {
   "cell_type": "code",
   "execution_count": 36,
   "metadata": {},
   "outputs": [],
   "source": [
    "# loop to create 10 dataframes for all century documents.\n",
    "df = pd.DataFrame()\n",
    "for century in range(1, 11):\n",
    "    df2 = pd.DataFrame()\n",
    "    df2['prophecy'] = pd.read_csv(f'./nostradamus_docs/nostradamus_century_{century}.txt', sep = '\\t', header = None)[0]\n",
    "    df2['century'] = century\n",
    "    df = pd.concat([df, df2], axis = 0, sort = False)    "
   ]
  },
  {
   "cell_type": "code",
   "execution_count": 37,
   "metadata": {},
   "outputs": [
    {
     "data": {
      "text/html": [
       "<div>\n",
       "<style scoped>\n",
       "    .dataframe tbody tr th:only-of-type {\n",
       "        vertical-align: middle;\n",
       "    }\n",
       "\n",
       "    .dataframe tbody tr th {\n",
       "        vertical-align: top;\n",
       "    }\n",
       "\n",
       "    .dataframe thead th {\n",
       "        text-align: right;\n",
       "    }\n",
       "</style>\n",
       "<table border=\"1\" class=\"dataframe\">\n",
       "  <thead>\n",
       "    <tr style=\"text-align: right;\">\n",
       "      <th></th>\n",
       "      <th>prophecy</th>\n",
       "      <th>century</th>\n",
       "    </tr>\n",
       "  </thead>\n",
       "  <tbody>\n",
       "    <tr>\n",
       "      <th>0</th>\n",
       "      <td>Century I</td>\n",
       "      <td>1</td>\n",
       "    </tr>\n",
       "    <tr>\n",
       "      <th>1</th>\n",
       "      <td>1</td>\n",
       "      <td>1</td>\n",
       "    </tr>\n",
       "    <tr>\n",
       "      <th>2</th>\n",
       "      <td>Sitting alone at night in secret study;</td>\n",
       "      <td>1</td>\n",
       "    </tr>\n",
       "    <tr>\n",
       "      <th>3</th>\n",
       "      <td>it is placed on the brass tripod.</td>\n",
       "      <td>1</td>\n",
       "    </tr>\n",
       "    <tr>\n",
       "      <th>4</th>\n",
       "      <td>A slight flame comes out of the emptiness and</td>\n",
       "      <td>1</td>\n",
       "    </tr>\n",
       "  </tbody>\n",
       "</table>\n",
       "</div>"
      ],
      "text/plain": [
       "                                        prophecy  century\n",
       "0                                      Century I        1\n",
       "1                                              1        1\n",
       "2        Sitting alone at night in secret study;        1\n",
       "3              it is placed on the brass tripod.        1\n",
       "4  A slight flame comes out of the emptiness and        1"
      ]
     },
     "execution_count": 37,
     "metadata": {},
     "output_type": "execute_result"
    }
   ],
   "source": [
    "df.head()"
   ]
  },
  {
   "cell_type": "code",
   "execution_count": 38,
   "metadata": {},
   "outputs": [],
   "source": [
    "# removed title header of each document.\n",
    "df = df[(['Century' not in s for s in df['prophecy']])].reset_index()\n",
    "df.drop('index', axis = 1, inplace = True)"
   ]
  },
  {
   "cell_type": "code",
   "execution_count": 40,
   "metadata": {},
   "outputs": [],
   "source": [
    "# removed every 5 lines from the dataframe.\n",
    "# these lines represented the prophecy number.\n",
    "df = df[np.mod(np.arange(df.index.size), 5) != 0].reset_index()\n",
    "df.drop('index', axis = 1, inplace = True)"
   ]
  },
  {
   "cell_type": "code",
   "execution_count": 41,
   "metadata": {},
   "outputs": [],
   "source": [
    "# added line numbers so each prophecy has four labeled lines.\n",
    "df.loc[df.index % 4 == 0, 'line_num'] = 1\n",
    "df.loc[df.index % 4 == 1, 'line_num'] = 2\n",
    "df.loc[df.index % 4 == 2, 'line_num'] = 3\n",
    "df.loc[df.index % 4 == 3, 'line_num'] = 4"
   ]
  },
  {
   "cell_type": "code",
   "execution_count": 43,
   "metadata": {},
   "outputs": [],
   "source": [
    "# added prophecy numbers that reset at the start of each century.\n",
    "n = 0\n",
    "century = 1\n",
    "boolean_list = (df.index % 4 == 0).tolist()\n",
    "for i, boolean in enumerate(boolean_list):\n",
    "    if boolean and df.loc[i, 'century'] == century:\n",
    "        n+=1\n",
    "        df.loc[i, 'prophecy_num'] = n\n",
    "    elif boolean:\n",
    "        century+=1\n",
    "        n = 1\n",
    "        df.loc[i, 'prophecy_num'] = n\n",
    "    else:\n",
    "        df.loc[i, 'prophecy_num'] = n"
   ]
  },
  {
   "cell_type": "code",
   "execution_count": 9,
   "metadata": {},
   "outputs": [],
   "source": [
    "# combined prophecy lines into indivudal cells so that each prophecy has one cell.\n",
    "df = df.groupby(['century', 'prophecy_num'])['prophecy'].apply(lambda x: '  '.join(x)).reset_index()"
   ]
  },
  {
   "cell_type": "code",
   "execution_count": 10,
   "metadata": {},
   "outputs": [],
   "source": [
    "df['century'] = df['century'].astype(float)"
   ]
  },
  {
   "cell_type": "code",
   "execution_count": 11,
   "metadata": {},
   "outputs": [
    {
     "data": {
      "text/plain": [
       "942"
      ]
     },
     "execution_count": 11,
     "metadata": {},
     "output_type": "execute_result"
    }
   ],
   "source": [
    "len(df)"
   ]
  },
  {
   "cell_type": "code",
   "execution_count": 12,
   "metadata": {},
   "outputs": [
    {
     "data": {
      "text/html": [
       "<div>\n",
       "<style scoped>\n",
       "    .dataframe tbody tr th:only-of-type {\n",
       "        vertical-align: middle;\n",
       "    }\n",
       "\n",
       "    .dataframe tbody tr th {\n",
       "        vertical-align: top;\n",
       "    }\n",
       "\n",
       "    .dataframe thead th {\n",
       "        text-align: right;\n",
       "    }\n",
       "</style>\n",
       "<table border=\"1\" class=\"dataframe\">\n",
       "  <thead>\n",
       "    <tr style=\"text-align: right;\">\n",
       "      <th></th>\n",
       "      <th>century</th>\n",
       "      <th>prophecy_num</th>\n",
       "      <th>prophecy</th>\n",
       "    </tr>\n",
       "  </thead>\n",
       "  <tbody>\n",
       "    <tr>\n",
       "      <th>0</th>\n",
       "      <td>1.0</td>\n",
       "      <td>1.0</td>\n",
       "      <td>Sitting alone at night in secret study;  it is...</td>\n",
       "    </tr>\n",
       "    <tr>\n",
       "      <th>1</th>\n",
       "      <td>1.0</td>\n",
       "      <td>2.0</td>\n",
       "      <td>The wand in the hand is placed in the middle o...</td>\n",
       "    </tr>\n",
       "    <tr>\n",
       "      <th>2</th>\n",
       "      <td>1.0</td>\n",
       "      <td>3.0</td>\n",
       "      <td>When the litters are overturned by the whirlwi...</td>\n",
       "    </tr>\n",
       "    <tr>\n",
       "      <th>3</th>\n",
       "      <td>1.0</td>\n",
       "      <td>4.0</td>\n",
       "      <td>In the world there will be made a king  who wi...</td>\n",
       "    </tr>\n",
       "    <tr>\n",
       "      <th>4</th>\n",
       "      <td>1.0</td>\n",
       "      <td>5.0</td>\n",
       "      <td>They will be driven away for a long drawn out ...</td>\n",
       "    </tr>\n",
       "  </tbody>\n",
       "</table>\n",
       "</div>"
      ],
      "text/plain": [
       "   century  prophecy_num                                           prophecy\n",
       "0      1.0           1.0  Sitting alone at night in secret study;  it is...\n",
       "1      1.0           2.0  The wand in the hand is placed in the middle o...\n",
       "2      1.0           3.0  When the litters are overturned by the whirlwi...\n",
       "3      1.0           4.0  In the world there will be made a king  who wi...\n",
       "4      1.0           5.0  They will be driven away for a long drawn out ..."
      ]
     },
     "execution_count": 12,
     "metadata": {},
     "output_type": "execute_result"
    }
   ],
   "source": [
    "df.head()"
   ]
  },
  {
   "cell_type": "code",
   "execution_count": 13,
   "metadata": {},
   "outputs": [],
   "source": [
    "# created new dataframe for nostradamus' epistle to Henry II\n",
    "h2_df = pd.read_csv('./nostradamus_docs/nostradamus_epistle_henry_2.txt', sep = '\\t', header = None)\n",
    "h2_df['group'] = 1\n",
    "h2_df = h2_df.loc[2:].groupby(['group'])[0].apply(lambda x: '  '.join(x)).reset_index()"
   ]
  },
  {
   "cell_type": "code",
   "execution_count": 14,
   "metadata": {},
   "outputs": [],
   "source": [
    "# created new dataframe for nostradamus' prephacy to Les Propheties\n",
    "pre_df = pd.read_csv('./nostradamus_docs/nostradamus_preface.txt', sep = '\\t', header = None)\n",
    "pre_df['group'] = 1\n",
    "pre_df = pre_df.loc[2:].groupby(['group'])[0].apply(lambda x: '  '.join(x)).reset_index()"
   ]
  },
  {
   "cell_type": "code",
   "execution_count": 16,
   "metadata": {},
   "outputs": [
    {
     "data": {
      "text/plain": [
       "Collection(Database(MongoClient(host=['localhost:27017'], document_class=dict, tz_aware=False, connect=True), 'nostradamus'), 'prophecy')"
      ]
     },
     "execution_count": 16,
     "metadata": {},
     "output_type": "execute_result"
    }
   ],
   "source": [
    "# created new collection for prophecies.\n",
    "client = MongoClient()\n",
    "db = client.nostradamus\n",
    "db.create_collection('prophecy')"
   ]
  },
  {
   "cell_type": "code",
   "execution_count": 17,
   "metadata": {},
   "outputs": [],
   "source": [
    "# db.drop_collection('prophecy')"
   ]
  },
  {
   "cell_type": "code",
   "execution_count": 18,
   "metadata": {},
   "outputs": [
    {
     "data": {
      "text/plain": [
       "('localhost', 27017)"
      ]
     },
     "execution_count": 18,
     "metadata": {},
     "output_type": "execute_result"
    }
   ],
   "source": [
    "client.address"
   ]
  },
  {
   "cell_type": "code",
   "execution_count": 19,
   "metadata": {},
   "outputs": [
    {
     "data": {
      "text/plain": [
       "['MyDatabase', 'admin', 'config', 'local', 'nostradamus']"
      ]
     },
     "execution_count": 19,
     "metadata": {},
     "output_type": "execute_result"
    }
   ],
   "source": [
    "client.list_database_names()"
   ]
  },
  {
   "cell_type": "code",
   "execution_count": 20,
   "metadata": {},
   "outputs": [
    {
     "data": {
      "text/plain": [
       "['prophecy']"
      ]
     },
     "execution_count": 20,
     "metadata": {},
     "output_type": "execute_result"
    }
   ],
   "source": [
    "db.list_collection_names()"
   ]
  },
  {
   "cell_type": "code",
   "execution_count": 21,
   "metadata": {},
   "outputs": [],
   "source": [
    "col = db.get_collection('prophecy')"
   ]
  },
  {
   "cell_type": "code",
   "execution_count": 22,
   "metadata": {
    "scrolled": true
   },
   "outputs": [
    {
     "data": {
      "text/plain": [
       "0"
      ]
     },
     "execution_count": 22,
     "metadata": {},
     "output_type": "execute_result"
    }
   ],
   "source": [
    "# no documents in collection yet\n",
    "col.estimated_document_count()"
   ]
  },
  {
   "cell_type": "code",
   "execution_count": 23,
   "metadata": {
    "code_folding": [],
    "scrolled": true
   },
   "outputs": [],
   "source": [
    "# added all prophecies to the collection\n",
    "for i, prophecy in enumerate(df['prophecy']):\n",
    "    doc = {'prophecy': prophecy, 'century': df['century'][i], 'prophecy_num': df['prophecy_num'][i]}\n",
    "    col.insert_one(doc)"
   ]
  },
  {
   "cell_type": "code",
   "execution_count": 24,
   "metadata": {
    "scrolled": true
   },
   "outputs": [
    {
     "data": {
      "text/plain": [
       "942"
      ]
     },
     "execution_count": 24,
     "metadata": {},
     "output_type": "execute_result"
    }
   ],
   "source": [
    "# all prophecies accounted for\n",
    "col.estimated_document_count()"
   ]
  },
  {
   "cell_type": "code",
   "execution_count": 25,
   "metadata": {},
   "outputs": [],
   "source": [
    "# consolidated all items in prophecy collection into pandas dataframe.\n",
    "df = pd.DataFrame(list(col.find()))\n",
    "df.drop('_id', axis = 1, inplace = True)"
   ]
  },
  {
   "cell_type": "code",
   "execution_count": 26,
   "metadata": {
    "code_folding": []
   },
   "outputs": [],
   "source": [
    "# performed substituions on prophecies\n",
    "# based on words that were not caught later on by lemmatization/stemming.\n",
    "\n",
    "substitutions = {'african': 'africa', 'barbaric': 'barbarian', 'because': '', 'cause': '', 'blood': 'bleed',\n",
    "                 'bloody': 'bleed', 'bled': 'bleed', 'burnt': 'burn', 'captive': 'capture',\n",
    "                 'captive': 'captured', 'children': 'child', 'complaints': 'complain',\n",
    "                 'dead': 'die', 'death': 'die', 'deceived': 'deceive', 'deceit': 'deceive',\n",
    "                 'depth': 'deep', 'defense': 'defend', 'destruction': 'destroy',\n",
    "                 'discovered': 'discover', 'discoveries': 'discover', 'discovery': 'discover',\n",
    "                 'doubly': 'double', 'drawn': 'draw', 'dreamer': 'dream', 'driven': 'drive',\n",
    "                 'drunken': 'drunk', 'eastern': 'east', 'eaten': 'eat', 'enclosed': 'enclose',\n",
    "                 'enclosure': 'enclose', 'entry': 'enter', 'envied': 'envy', 'envious': 'envy',\n",
    "                 'executioners': 'execute', 'extension': 'extend', 'falsify': 'false',\n",
    "                 'failure': 'fail', 'flight': 'flies', 'florense': 'florence', 'french': 'france',\n",
    "                 'fraudulent': 'fraud', 'friendship': 'friend', 'frightful': 'frighten',\n",
    "                 'frost': 'freeze', 'frozen': 'freeze', 'furious': 'fury', 'gascony': 'gascon',\n",
    "                 'genevans': 'geneva', 'gnashing': 'gnaw', 'governor': 'govern', 'greedy': 'greed',\n",
    "                 'germany': 'german', 'golden': 'gold', 'greatest': 'great', 'greater': 'great',\n",
    "                 'halfway': 'half', 'healthy': 'health', 'hairy': 'hair', 'hardships': 'hard',\n",
    "                 'hatred': 'hate', 'heard': 'hear', 'higher': 'high', 'highest': 'high',\n",
    "                 'household': 'house', 'hundred': '', 'hungarians': 'hungary', 'impetuosity': 'impetuous',\n",
    "                 'injured': 'injure', 'italian': 'italy', 'judges': 'judge', 'judgement': 'judge',\n",
    "                 'kingdom': 'king', 'larger': 'large', 'later': 'late', 'leadership': 'lead',\n",
    "                 'leader': 'lead', 'leaderless': 'lead', 'leaguers': 'league', 'longer': 'long',\n",
    "                 'loss': 'lose', 'lost': 'lose', 'lower': 'low', 'lowest': 'low', 'lover': 'love',\n",
    "                 'lusitanian': 'lusitania', 'macedonian': 'macedonia', 'mankind': 'man',\n",
    "                 'marriage': 'marry', 'maritime': 'marine', 'mightily': 'mighty', 'newly': 'new',\n",
    "                 'older': 'old', 'oldest': 'old', 'oppose': 'opposite', 'pleasing': 'pleasure',\n",
    "                 'philosophers': 'philosophy', 'provincial': 'province', 'pursuers': 'pursue',\n",
    "                 'pursuit': 'pursue', 'robbery': 'rob', 'robber': 'rob', 'redden': 'red',\n",
    "                 'redbeard': 'red', 'remainder': 'remain', 'revolutions': 'revolt',\n",
    "                 'robbed': 'rob', 'shadow': 'shade', 'seventh': 'seven', 'shorter': 'short',\n",
    "                 'smaller': 'small', 'soldiery': 'soldiers', 'sovereignty': 'sovereign',\n",
    "                 'spacious': 'space', 'spanish': 'spain', 'spaniards': 'spain', 'strongest': 'strong',\n",
    "                 'stronghold': 'strong', 'survivor': 'survive', 'swampy': 'swamps', 'sprung': 'spring',\n",
    "                 'taken': 'take', 'taker': 'take', 'terrified': 'terror', 'terrible': 'terror',\n",
    "                 'thirsty': 'thirst', 'thought': 'think', 'threatens': 'threat', 'toulousans': 'toulouse',\n",
    "                 'thunderbolt': 'thunder', 'treacherous': 'treachery', 'trickery': 'trick',\n",
    "                 'troubleed': 'trouble', 'troubled': 'trouble', 'tuscany': 'tuscan',\n",
    "                 'twentieth': 'twenty', 'tyrant': 'tyranny', 'victorious': 'victor',\n",
    "                 'victory': 'victor', 'violent': 'violence', 'younger': 'young', 'warlike': 'war',\n",
    "                 'weak': 'weaken', 'weaker': 'weaken', 'wives': 'wife', 'wooden': 'wood',\n",
    "                 'worldwide': 'world', 'worthy': 'worth', 'youth': 'young'}\n",
    "\n",
    "df['prophecy'] = deepcopy(replace(df['prophecy'], substitutions))\n",
    "h2_df[0] = deepcopy(replace(h2_df[0], substitutions))\n",
    "pre_df[0] = deepcopy(replace(pre_df[0], substitutions))"
   ]
  },
  {
   "cell_type": "code",
   "execution_count": 27,
   "metadata": {},
   "outputs": [
    {
     "data": {
      "text/html": [
       "<div>\n",
       "<style scoped>\n",
       "    .dataframe tbody tr th:only-of-type {\n",
       "        vertical-align: middle;\n",
       "    }\n",
       "\n",
       "    .dataframe tbody tr th {\n",
       "        vertical-align: top;\n",
       "    }\n",
       "\n",
       "    .dataframe thead th {\n",
       "        text-align: right;\n",
       "    }\n",
       "</style>\n",
       "<table border=\"1\" class=\"dataframe\">\n",
       "  <thead>\n",
       "    <tr style=\"text-align: right;\">\n",
       "      <th></th>\n",
       "      <th>century</th>\n",
       "      <th>prophecy</th>\n",
       "      <th>prophecy_num</th>\n",
       "    </tr>\n",
       "  </thead>\n",
       "  <tbody>\n",
       "    <tr>\n",
       "      <th>0</th>\n",
       "      <td>1.0</td>\n",
       "      <td>Sitting alone at night in secret study;  it is...</td>\n",
       "      <td>1.0</td>\n",
       "    </tr>\n",
       "    <tr>\n",
       "      <th>1</th>\n",
       "      <td>1.0</td>\n",
       "      <td>The wand in the hand is placed in the middle o...</td>\n",
       "      <td>2.0</td>\n",
       "    </tr>\n",
       "    <tr>\n",
       "      <th>2</th>\n",
       "      <td>1.0</td>\n",
       "      <td>When the litters are overturned by the whirlwi...</td>\n",
       "      <td>3.0</td>\n",
       "    </tr>\n",
       "    <tr>\n",
       "      <th>3</th>\n",
       "      <td>1.0</td>\n",
       "      <td>In the world there will be made a king  who wi...</td>\n",
       "      <td>4.0</td>\n",
       "    </tr>\n",
       "    <tr>\n",
       "      <th>4</th>\n",
       "      <td>1.0</td>\n",
       "      <td>They will be drive away for a long draw out fi...</td>\n",
       "      <td>5.0</td>\n",
       "    </tr>\n",
       "  </tbody>\n",
       "</table>\n",
       "</div>"
      ],
      "text/plain": [
       "   century                                           prophecy  prophecy_num\n",
       "0      1.0  Sitting alone at night in secret study;  it is...           1.0\n",
       "1      1.0  The wand in the hand is placed in the middle o...           2.0\n",
       "2      1.0  When the litters are overturned by the whirlwi...           3.0\n",
       "3      1.0  In the world there will be made a king  who wi...           4.0\n",
       "4      1.0  They will be drive away for a long draw out fi...           5.0"
      ]
     },
     "execution_count": 27,
     "metadata": {},
     "output_type": "execute_result"
    }
   ],
   "source": [
    "df.head()"
   ]
  },
  {
   "cell_type": "code",
   "execution_count": 28,
   "metadata": {},
   "outputs": [],
   "source": [
    "df.to_pickle('pickle/prophecy_df.pkl')\n",
    "h2_df.to_pickle('pickle/h2_df.pkl')\n",
    "pre_df.to_pickle('pickle/pre_df.pkl')"
   ]
  },
  {
   "cell_type": "code",
   "execution_count": null,
   "metadata": {},
   "outputs": [],
   "source": []
  }
 ],
 "metadata": {
  "kernelspec": {
   "display_name": "Python 3",
   "language": "python",
   "name": "python3"
  },
  "language_info": {
   "codemirror_mode": {
    "name": "ipython",
    "version": 3
   },
   "file_extension": ".py",
   "mimetype": "text/x-python",
   "name": "python",
   "nbconvert_exporter": "python",
   "pygments_lexer": "ipython3",
   "version": "3.6.4"
  }
 },
 "nbformat": 4,
 "nbformat_minor": 2
}
