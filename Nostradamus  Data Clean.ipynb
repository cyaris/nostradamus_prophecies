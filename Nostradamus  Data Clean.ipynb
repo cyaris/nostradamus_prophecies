{
 "cells": [
  {
   "cell_type": "code",
   "execution_count": 1,
   "metadata": {},
   "outputs": [],
   "source": [
    "import pandas as pd\n",
    "import numpy as np\n",
    "from copy import deepcopy"
   ]
  },
  {
   "cell_type": "code",
   "execution_count": 2,
   "metadata": {},
   "outputs": [],
   "source": [
    "from my_functions import replace"
   ]
  },
  {
   "cell_type": "code",
   "execution_count": 3,
   "metadata": {},
   "outputs": [],
   "source": [
    "df = pd.DataFrame()\n",
    "for century in range(1, 11):\n",
    "    df2 = pd.DataFrame()\n",
    "    df2['prophecy'] = pd.read_csv(f'./nostradamus_docs/nostradamus_century_{century}.txt', sep = '\\t', header = None)[0]\n",
    "    df2['century'] = century\n",
    "    df = pd.concat([df, df2], axis = 0, sort = False)    "
   ]
  },
  {
   "cell_type": "code",
   "execution_count": 4,
   "metadata": {},
   "outputs": [
    {
     "data": {
      "text/html": [
       "<div>\n",
       "<style scoped>\n",
       "    .dataframe tbody tr th:only-of-type {\n",
       "        vertical-align: middle;\n",
       "    }\n",
       "\n",
       "    .dataframe tbody tr th {\n",
       "        vertical-align: top;\n",
       "    }\n",
       "\n",
       "    .dataframe thead th {\n",
       "        text-align: right;\n",
       "    }\n",
       "</style>\n",
       "<table border=\"1\" class=\"dataframe\">\n",
       "  <thead>\n",
       "    <tr style=\"text-align: right;\">\n",
       "      <th></th>\n",
       "      <th>prophecy</th>\n",
       "      <th>century</th>\n",
       "    </tr>\n",
       "  </thead>\n",
       "  <tbody>\n",
       "    <tr>\n",
       "      <th>0</th>\n",
       "      <td>Century I</td>\n",
       "      <td>1</td>\n",
       "    </tr>\n",
       "    <tr>\n",
       "      <th>1</th>\n",
       "      <td>1</td>\n",
       "      <td>1</td>\n",
       "    </tr>\n",
       "    <tr>\n",
       "      <th>2</th>\n",
       "      <td>Sitting alone at night in secret study;</td>\n",
       "      <td>1</td>\n",
       "    </tr>\n",
       "    <tr>\n",
       "      <th>3</th>\n",
       "      <td>it is placed on the brass tripod.</td>\n",
       "      <td>1</td>\n",
       "    </tr>\n",
       "    <tr>\n",
       "      <th>4</th>\n",
       "      <td>A slight flame comes out of the emptiness and</td>\n",
       "      <td>1</td>\n",
       "    </tr>\n",
       "  </tbody>\n",
       "</table>\n",
       "</div>"
      ],
      "text/plain": [
       "                                        prophecy  century\n",
       "0                                      Century I        1\n",
       "1                                              1        1\n",
       "2        Sitting alone at night in secret study;        1\n",
       "3              it is placed on the brass tripod.        1\n",
       "4  A slight flame comes out of the emptiness and        1"
      ]
     },
     "execution_count": 4,
     "metadata": {},
     "output_type": "execute_result"
    }
   ],
   "source": [
    "df.head()"
   ]
  },
  {
   "cell_type": "code",
   "execution_count": 5,
   "metadata": {},
   "outputs": [],
   "source": [
    "df = df[(['Century' not in s for s in df['prophecy']])].reset_index()\n",
    "df.drop('index', axis = 1, inplace = True)"
   ]
  },
  {
   "cell_type": "code",
   "execution_count": 6,
   "metadata": {},
   "outputs": [],
   "source": [
    "df = df[np.mod(np.arange(df.index.size), 5) != 0].reset_index()\n",
    "df.drop('index', axis = 1, inplace = True)"
   ]
  },
  {
   "cell_type": "code",
   "execution_count": 7,
   "metadata": {},
   "outputs": [],
   "source": [
    "df.loc[df.index % 4 == 0, 'line_num'] = 1\n",
    "df.loc[df.index % 4 == 1, 'line_num'] = 2\n",
    "df.loc[df.index % 4 == 2, 'line_num'] = 3\n",
    "df.loc[df.index % 4 == 3, 'line_num'] = 4"
   ]
  },
  {
   "cell_type": "code",
   "execution_count": 8,
   "metadata": {},
   "outputs": [],
   "source": [
    "n = 0\n",
    "century = 1\n",
    "boolean_list = (df.index % 4 == 0).tolist()\n",
    "for i, boolean in enumerate(boolean_list):\n",
    "    if boolean and df.loc[i, 'century'] == century:\n",
    "        n+=1\n",
    "        df.loc[i, 'prophecy_num'] = n\n",
    "    elif boolean:\n",
    "        century+=1\n",
    "        n = 1\n",
    "        df.loc[i, 'prophecy_num'] = n\n",
    "    else:\n",
    "        df.loc[i, 'prophecy_num'] = n"
   ]
  },
  {
   "cell_type": "code",
   "execution_count": 9,
   "metadata": {},
   "outputs": [],
   "source": [
    "df = df.groupby(['century', 'prophecy_num'])['prophecy'].apply(lambda x: '  '.join(x)).reset_index()"
   ]
  },
  {
   "cell_type": "code",
   "execution_count": 10,
   "metadata": {},
   "outputs": [],
   "source": [
    "df['century'] = df['century'].astype(float)"
   ]
  },
  {
   "cell_type": "code",
   "execution_count": 11,
   "metadata": {},
   "outputs": [
    {
     "data": {
      "text/plain": [
       "942"
      ]
     },
     "execution_count": 11,
     "metadata": {},
     "output_type": "execute_result"
    }
   ],
   "source": [
    "len(df)"
   ]
  },
  {
   "cell_type": "code",
   "execution_count": 12,
   "metadata": {},
   "outputs": [
    {
     "data": {
      "text/html": [
       "<div>\n",
       "<style scoped>\n",
       "    .dataframe tbody tr th:only-of-type {\n",
       "        vertical-align: middle;\n",
       "    }\n",
       "\n",
       "    .dataframe tbody tr th {\n",
       "        vertical-align: top;\n",
       "    }\n",
       "\n",
       "    .dataframe thead th {\n",
       "        text-align: right;\n",
       "    }\n",
       "</style>\n",
       "<table border=\"1\" class=\"dataframe\">\n",
       "  <thead>\n",
       "    <tr style=\"text-align: right;\">\n",
       "      <th></th>\n",
       "      <th>century</th>\n",
       "      <th>prophecy_num</th>\n",
       "      <th>prophecy</th>\n",
       "    </tr>\n",
       "  </thead>\n",
       "  <tbody>\n",
       "    <tr>\n",
       "      <th>0</th>\n",
       "      <td>1.0</td>\n",
       "      <td>1.0</td>\n",
       "      <td>Sitting alone at night in secret study;  it is...</td>\n",
       "    </tr>\n",
       "    <tr>\n",
       "      <th>1</th>\n",
       "      <td>1.0</td>\n",
       "      <td>2.0</td>\n",
       "      <td>The wand in the hand is placed in the middle o...</td>\n",
       "    </tr>\n",
       "    <tr>\n",
       "      <th>2</th>\n",
       "      <td>1.0</td>\n",
       "      <td>3.0</td>\n",
       "      <td>When the litters are overturned by the whirlwi...</td>\n",
       "    </tr>\n",
       "    <tr>\n",
       "      <th>3</th>\n",
       "      <td>1.0</td>\n",
       "      <td>4.0</td>\n",
       "      <td>In the world there will be made a king  who wi...</td>\n",
       "    </tr>\n",
       "    <tr>\n",
       "      <th>4</th>\n",
       "      <td>1.0</td>\n",
       "      <td>5.0</td>\n",
       "      <td>They will be driven away for a long drawn out ...</td>\n",
       "    </tr>\n",
       "  </tbody>\n",
       "</table>\n",
       "</div>"
      ],
      "text/plain": [
       "   century  prophecy_num                                           prophecy\n",
       "0      1.0           1.0  Sitting alone at night in secret study;  it is...\n",
       "1      1.0           2.0  The wand in the hand is placed in the middle o...\n",
       "2      1.0           3.0  When the litters are overturned by the whirlwi...\n",
       "3      1.0           4.0  In the world there will be made a king  who wi...\n",
       "4      1.0           5.0  They will be driven away for a long drawn out ..."
      ]
     },
     "execution_count": 12,
     "metadata": {},
     "output_type": "execute_result"
    }
   ],
   "source": [
    "df.head()"
   ]
  },
  {
   "cell_type": "code",
   "execution_count": 13,
   "metadata": {},
   "outputs": [],
   "source": [
    "h2_df = pd.read_csv('./nostradamus_docs/nostradamus_epistle_henry_2.txt', sep = '\\t', header = None)\n",
    "h2_df['group'] = 1\n",
    "h2_df = h2_df.loc[2:].groupby(['group'])[0].apply(lambda x: '  '.join(x)).reset_index()"
   ]
  },
  {
   "cell_type": "code",
   "execution_count": 14,
   "metadata": {},
   "outputs": [],
   "source": [
    "pre_df = pd.read_csv('./nostradamus_docs/nostradamus_preface.txt', sep = '\\t', header = None)\n",
    "pre_df['group'] = 1\n",
    "pre_df = pre_df.loc[2:].groupby(['group'])[0].apply(lambda x: '  '.join(x)).reset_index()"
   ]
  },
  {
   "cell_type": "code",
   "execution_count": 15,
   "metadata": {},
   "outputs": [],
   "source": [
    "from pymongo import MongoClient"
   ]
  },
  {
   "cell_type": "code",
   "execution_count": 18,
   "metadata": {},
   "outputs": [
    {
     "data": {
      "text/plain": [
       "Collection(Database(MongoClient(host=['localhost:27017'], document_class=dict, tz_aware=False, connect=True), 'nostradamus'), 'prophecy')"
      ]
     },
     "execution_count": 18,
     "metadata": {},
     "output_type": "execute_result"
    }
   ],
   "source": [
    "client = MongoClient()\n",
    "db = client.nostradamus\n",
    "db.create_collection('prophecy')"
   ]
  },
  {
   "cell_type": "code",
   "execution_count": 19,
   "metadata": {},
   "outputs": [],
   "source": [
    "# db.drop_collection('prophecy')"
   ]
  },
  {
   "cell_type": "code",
   "execution_count": 20,
   "metadata": {},
   "outputs": [
    {
     "data": {
      "text/plain": [
       "('localhost', 27017)"
      ]
     },
     "execution_count": 20,
     "metadata": {},
     "output_type": "execute_result"
    }
   ],
   "source": [
    "client.address"
   ]
  },
  {
   "cell_type": "code",
   "execution_count": 21,
   "metadata": {},
   "outputs": [
    {
     "data": {
      "text/plain": [
       "['MyDatabase', 'admin', 'config', 'local', 'nostradamus']"
      ]
     },
     "execution_count": 21,
     "metadata": {},
     "output_type": "execute_result"
    }
   ],
   "source": [
    "client.list_database_names()"
   ]
  },
  {
   "cell_type": "code",
   "execution_count": 22,
   "metadata": {},
   "outputs": [
    {
     "data": {
      "text/plain": [
       "['prophecy']"
      ]
     },
     "execution_count": 22,
     "metadata": {},
     "output_type": "execute_result"
    }
   ],
   "source": [
    "db.list_collection_names()"
   ]
  },
  {
   "cell_type": "code",
   "execution_count": 23,
   "metadata": {},
   "outputs": [],
   "source": [
    "col = db.get_collection('prophecy')"
   ]
  },
  {
   "cell_type": "code",
   "execution_count": 24,
   "metadata": {
    "scrolled": true
   },
   "outputs": [
    {
     "data": {
      "text/plain": [
       "0"
      ]
     },
     "execution_count": 24,
     "metadata": {},
     "output_type": "execute_result"
    }
   ],
   "source": [
    "col.estimated_document_count()"
   ]
  },
  {
   "cell_type": "code",
   "execution_count": 25,
   "metadata": {
    "scrolled": true
   },
   "outputs": [],
   "source": [
    "for i, prophecy in enumerate(df['prophecy']):\n",
    "    doc = {'prophecy': prophecy, 'century': df['century'][i], 'prophecy_num': df['prophecy_num'][i]}\n",
    "    col.insert_one(doc)"
   ]
  },
  {
   "cell_type": "code",
   "execution_count": 26,
   "metadata": {},
   "outputs": [
    {
     "ename": "InvalidDocument",
     "evalue": "Cannot encode object: 0                                   Epistle to Henry II\n1                                   EPISTLE TO HENRY II\n2     TO THE MOST INVINCIBLE MOST POWERFUL AND MOST ...\n3     Ever since my long-beclouded face first presen...\n4     While I was seized with this singular desire t...\n5     It is to a most prudent and most wise Prince t...\n6     Indeed, someone, who would do well to blow his...\n7     Nevertheless, I wanted to leave a record in wr...\n8     I have calculated and composed all during choi...\n9     It is quite true, Sire, that my natural instin...\n10    There are some who would attribute to me that ...\n11    Notwithstanding those who cannot contain the m...\n12    Such is the extent of time past, subject to co...\n13    Although my calculations may not hold good for...\n14    As for myself, I would never claim such a titl...\n15    For God will take notice of the long barrennes...\n16    There will be great differences between the th...\n17    The oldest one will rule the land whose escutc...\n18    The one second in age, accompanied by the Lati...\n19    The daughter will be given for the preservatio...\n20    The unfaithful son, who, to his great confusio...\n21    And all will render the homage of ancient reli...\n22    In nature they will be equal, but very differe...\n23    After this the barren Dame, of greater power t...\n24    The third people will extend their forces towa...\n25    Then the great Empire of the Antichrist will b...\n26    This will be preceded by a solar eclipse more ...\n27    In the spring there will be omens, and thereaf...\n28    Then there will issue from the stock which had...\n29    The countries, towns, cities, realms and provi...\n                            ...                        \n33    Then the impurities and abominations, with a g...\n34    The supporting common people will rise up and ...\n35    Then will commence a persecution of the Church...\n36    And a new incursion will be made by the mariti...\n37    The sepulcher, for long an object of such grea...\n38    For hereupon the principal Eastern chief will ...\n39    What great oppression will then fall upon the ...\n40    Then the Lords of \"Aquilon\" [the North], two i...\n41    By this discourse, Sire, I present these predi...\n42    Anyhow, I count the years from the creation of...\n43    I have calculated the present prophecies accor...\n44    But not everywhere. It will mark the commencem...\n45    After this the Roman people will begin to re-e...\n46    At that time the great sails of Byzantium, all...\n47    It will be at this time and in these countries...\n48    The said reign of the Antichrist will last onl...\n49    The Gallic Ogmios will be accompanied by so gr...\n50    Once again Satan will be bound, universal peac...\n51    In the Epistle that some years ago I dedicated...\n52    During this astrological supputation, harmoniz...\n53    Thereupon the same thing will occur in the Sou...\n54    One of the horrible temporal Kings will be tol...\n55    Then, in this same year, and in those followin...\n56    Thereupon the third King of \"Aquilon\" [the Nor...\n57    After that Antichrist will be the infernal pri...\n58    After this has endured for a long time, there ...\n59    All these figures represent the just integrati...\n60    Many events, most powerful of all Kings, of th...\n61    But I shall only beseech you, Most Clement Kin...\n62    Done by Michel Nostradamus at Salon-de-Crau in...\nName: 0, Length: 63, dtype: object",
     "output_type": "error",
     "traceback": [
      "\u001b[0;31m---------------------------------------------------------------------------\u001b[0m",
      "\u001b[0;31mInvalidDocument\u001b[0m                           Traceback (most recent call last)",
      "\u001b[0;32m<ipython-input-26-6e74180dca9e>\u001b[0m in \u001b[0;36m<module>\u001b[0;34m()\u001b[0m\n\u001b[1;32m      1\u001b[0m \u001b[0mdoc\u001b[0m \u001b[0;34m=\u001b[0m \u001b[0;34m{\u001b[0m\u001b[0;34m'epistle_henry_ii'\u001b[0m\u001b[0;34m:\u001b[0m \u001b[0mpd\u001b[0m\u001b[0;34m.\u001b[0m\u001b[0mread_csv\u001b[0m\u001b[0;34m(\u001b[0m\u001b[0;34m'./nostradamus_docs/nostradamus_epistle_henry_2.txt'\u001b[0m\u001b[0;34m,\u001b[0m \u001b[0msep\u001b[0m \u001b[0;34m=\u001b[0m \u001b[0;34m'\\t'\u001b[0m\u001b[0;34m,\u001b[0m \u001b[0mheader\u001b[0m \u001b[0;34m=\u001b[0m \u001b[0;32mNone\u001b[0m\u001b[0;34m)\u001b[0m\u001b[0;34m[\u001b[0m\u001b[0;36m0\u001b[0m\u001b[0;34m]\u001b[0m\u001b[0;34m}\u001b[0m\u001b[0;34m\u001b[0m\u001b[0m\n\u001b[0;32m----> 2\u001b[0;31m \u001b[0mcol\u001b[0m\u001b[0;34m.\u001b[0m\u001b[0minsert_one\u001b[0m\u001b[0;34m(\u001b[0m\u001b[0mdoc\u001b[0m\u001b[0;34m)\u001b[0m\u001b[0;34m\u001b[0m\u001b[0m\n\u001b[0m",
      "\u001b[0;32m~/.venvs/lpthw/lib/python3.6/site-packages/pymongo/collection.py\u001b[0m in \u001b[0;36minsert_one\u001b[0;34m(self, document, bypass_document_validation, session)\u001b[0m\n\u001b[1;32m    691\u001b[0m                          \u001b[0mwrite_concern\u001b[0m\u001b[0;34m=\u001b[0m\u001b[0mwrite_concern\u001b[0m\u001b[0;34m,\u001b[0m\u001b[0;34m\u001b[0m\u001b[0m\n\u001b[1;32m    692\u001b[0m                          \u001b[0mbypass_doc_val\u001b[0m\u001b[0;34m=\u001b[0m\u001b[0mbypass_document_validation\u001b[0m\u001b[0;34m,\u001b[0m\u001b[0;34m\u001b[0m\u001b[0m\n\u001b[0;32m--> 693\u001b[0;31m                          session=session),\n\u001b[0m\u001b[1;32m    694\u001b[0m             write_concern.acknowledged)\n\u001b[1;32m    695\u001b[0m \u001b[0;34m\u001b[0m\u001b[0m\n",
      "\u001b[0;32m~/.venvs/lpthw/lib/python3.6/site-packages/pymongo/collection.py\u001b[0m in \u001b[0;36m_insert\u001b[0;34m(self, docs, ordered, check_keys, manipulate, write_concern, op_id, bypass_doc_val, session)\u001b[0m\n\u001b[1;32m    605\u001b[0m             return self._insert_one(\n\u001b[1;32m    606\u001b[0m                 \u001b[0mdocs\u001b[0m\u001b[0;34m,\u001b[0m \u001b[0mordered\u001b[0m\u001b[0;34m,\u001b[0m \u001b[0mcheck_keys\u001b[0m\u001b[0;34m,\u001b[0m \u001b[0mmanipulate\u001b[0m\u001b[0;34m,\u001b[0m \u001b[0mwrite_concern\u001b[0m\u001b[0;34m,\u001b[0m \u001b[0mop_id\u001b[0m\u001b[0;34m,\u001b[0m\u001b[0;34m\u001b[0m\u001b[0m\n\u001b[0;32m--> 607\u001b[0;31m                 bypass_doc_val, session)\n\u001b[0m\u001b[1;32m    608\u001b[0m \u001b[0;34m\u001b[0m\u001b[0m\n\u001b[1;32m    609\u001b[0m         \u001b[0mids\u001b[0m \u001b[0;34m=\u001b[0m \u001b[0;34m[\u001b[0m\u001b[0;34m]\u001b[0m\u001b[0;34m\u001b[0m\u001b[0m\n",
      "\u001b[0;32m~/.venvs/lpthw/lib/python3.6/site-packages/pymongo/collection.py\u001b[0m in \u001b[0;36m_insert_one\u001b[0;34m(self, doc, ordered, check_keys, manipulate, write_concern, op_id, bypass_doc_val, session)\u001b[0m\n\u001b[1;32m    593\u001b[0m \u001b[0;34m\u001b[0m\u001b[0m\n\u001b[1;32m    594\u001b[0m         self.__database.client._retryable_write(\n\u001b[0;32m--> 595\u001b[0;31m             acknowledged, _insert_command, session)\n\u001b[0m\u001b[1;32m    596\u001b[0m \u001b[0;34m\u001b[0m\u001b[0m\n\u001b[1;32m    597\u001b[0m         \u001b[0;32mif\u001b[0m \u001b[0;32mnot\u001b[0m \u001b[0misinstance\u001b[0m\u001b[0;34m(\u001b[0m\u001b[0mdoc\u001b[0m\u001b[0;34m,\u001b[0m \u001b[0mRawBSONDocument\u001b[0m\u001b[0;34m)\u001b[0m\u001b[0;34m:\u001b[0m\u001b[0;34m\u001b[0m\u001b[0m\n",
      "\u001b[0;32m~/.venvs/lpthw/lib/python3.6/site-packages/pymongo/mongo_client.py\u001b[0m in \u001b[0;36m_retryable_write\u001b[0;34m(self, retryable, func, session)\u001b[0m\n\u001b[1;32m   1246\u001b[0m         \u001b[0;34m\"\"\"Internal retryable write helper.\"\"\"\u001b[0m\u001b[0;34m\u001b[0m\u001b[0m\n\u001b[1;32m   1247\u001b[0m         \u001b[0;32mwith\u001b[0m \u001b[0mself\u001b[0m\u001b[0;34m.\u001b[0m\u001b[0m_tmp_session\u001b[0m\u001b[0;34m(\u001b[0m\u001b[0msession\u001b[0m\u001b[0;34m)\u001b[0m \u001b[0;32mas\u001b[0m \u001b[0ms\u001b[0m\u001b[0;34m:\u001b[0m\u001b[0;34m\u001b[0m\u001b[0m\n\u001b[0;32m-> 1248\u001b[0;31m             \u001b[0;32mreturn\u001b[0m \u001b[0mself\u001b[0m\u001b[0;34m.\u001b[0m\u001b[0m_retry_with_session\u001b[0m\u001b[0;34m(\u001b[0m\u001b[0mretryable\u001b[0m\u001b[0;34m,\u001b[0m \u001b[0mfunc\u001b[0m\u001b[0;34m,\u001b[0m \u001b[0ms\u001b[0m\u001b[0;34m,\u001b[0m \u001b[0;32mNone\u001b[0m\u001b[0;34m)\u001b[0m\u001b[0;34m\u001b[0m\u001b[0m\n\u001b[0m\u001b[1;32m   1249\u001b[0m \u001b[0;34m\u001b[0m\u001b[0m\n\u001b[1;32m   1250\u001b[0m     \u001b[0;32mdef\u001b[0m \u001b[0m__reset_server\u001b[0m\u001b[0;34m(\u001b[0m\u001b[0mself\u001b[0m\u001b[0;34m,\u001b[0m \u001b[0maddress\u001b[0m\u001b[0;34m)\u001b[0m\u001b[0;34m:\u001b[0m\u001b[0;34m\u001b[0m\u001b[0m\n",
      "\u001b[0;32m~/.venvs/lpthw/lib/python3.6/site-packages/pymongo/mongo_client.py\u001b[0m in \u001b[0;36m_retry_with_session\u001b[0;34m(self, retryable, func, session, bulk)\u001b[0m\n\u001b[1;32m   1199\u001b[0m                             \u001b[0;32mraise\u001b[0m \u001b[0mlast_error\u001b[0m\u001b[0;34m\u001b[0m\u001b[0m\n\u001b[1;32m   1200\u001b[0m                         \u001b[0mretryable\u001b[0m \u001b[0;34m=\u001b[0m \u001b[0;32mFalse\u001b[0m\u001b[0;34m\u001b[0m\u001b[0m\n\u001b[0;32m-> 1201\u001b[0;31m                     \u001b[0;32mreturn\u001b[0m \u001b[0mfunc\u001b[0m\u001b[0;34m(\u001b[0m\u001b[0msession\u001b[0m\u001b[0;34m,\u001b[0m \u001b[0msock_info\u001b[0m\u001b[0;34m,\u001b[0m \u001b[0mretryable\u001b[0m\u001b[0;34m)\u001b[0m\u001b[0;34m\u001b[0m\u001b[0m\n\u001b[0m\u001b[1;32m   1202\u001b[0m             \u001b[0;32mexcept\u001b[0m \u001b[0mServerSelectionTimeoutError\u001b[0m\u001b[0;34m:\u001b[0m\u001b[0;34m\u001b[0m\u001b[0m\n\u001b[1;32m   1203\u001b[0m                 \u001b[0;32mif\u001b[0m \u001b[0mis_retrying\u001b[0m\u001b[0;34m(\u001b[0m\u001b[0;34m)\u001b[0m\u001b[0;34m:\u001b[0m\u001b[0;34m\u001b[0m\u001b[0m\n",
      "\u001b[0;32m~/.venvs/lpthw/lib/python3.6/site-packages/pymongo/collection.py\u001b[0m in \u001b[0;36m_insert_command\u001b[0;34m(session, sock_info, retryable_write)\u001b[0m\n\u001b[1;32m    588\u001b[0m                 \u001b[0msession\u001b[0m\u001b[0;34m=\u001b[0m\u001b[0msession\u001b[0m\u001b[0;34m,\u001b[0m\u001b[0;34m\u001b[0m\u001b[0m\n\u001b[1;32m    589\u001b[0m                 \u001b[0mclient\u001b[0m\u001b[0;34m=\u001b[0m\u001b[0mself\u001b[0m\u001b[0;34m.\u001b[0m\u001b[0m__database\u001b[0m\u001b[0;34m.\u001b[0m\u001b[0mclient\u001b[0m\u001b[0;34m,\u001b[0m\u001b[0;34m\u001b[0m\u001b[0m\n\u001b[0;32m--> 590\u001b[0;31m                 retryable_write=retryable_write)\n\u001b[0m\u001b[1;32m    591\u001b[0m \u001b[0;34m\u001b[0m\u001b[0m\n\u001b[1;32m    592\u001b[0m             \u001b[0m_check_write_command_response\u001b[0m\u001b[0;34m(\u001b[0m\u001b[0mresult\u001b[0m\u001b[0;34m)\u001b[0m\u001b[0;34m\u001b[0m\u001b[0m\n",
      "\u001b[0;32m~/.venvs/lpthw/lib/python3.6/site-packages/pymongo/pool.py\u001b[0m in \u001b[0;36mcommand\u001b[0;34m(self, dbname, spec, slave_ok, read_preference, codec_options, check, allowable_errors, check_keys, read_concern, write_concern, parse_write_concern_error, collation, session, client, retryable_write, publish_events)\u001b[0m\n\u001b[1;32m    582\u001b[0m         \u001b[0;31m# Catch socket.error, KeyboardInterrupt, etc. and close ourselves.\u001b[0m\u001b[0;34m\u001b[0m\u001b[0;34m\u001b[0m\u001b[0m\n\u001b[1;32m    583\u001b[0m         \u001b[0;32mexcept\u001b[0m \u001b[0mBaseException\u001b[0m \u001b[0;32mas\u001b[0m \u001b[0merror\u001b[0m\u001b[0;34m:\u001b[0m\u001b[0;34m\u001b[0m\u001b[0m\n\u001b[0;32m--> 584\u001b[0;31m             \u001b[0mself\u001b[0m\u001b[0;34m.\u001b[0m\u001b[0m_raise_connection_failure\u001b[0m\u001b[0;34m(\u001b[0m\u001b[0merror\u001b[0m\u001b[0;34m)\u001b[0m\u001b[0;34m\u001b[0m\u001b[0m\n\u001b[0m\u001b[1;32m    585\u001b[0m \u001b[0;34m\u001b[0m\u001b[0m\n\u001b[1;32m    586\u001b[0m     \u001b[0;32mdef\u001b[0m \u001b[0msend_message\u001b[0m\u001b[0;34m(\u001b[0m\u001b[0mself\u001b[0m\u001b[0;34m,\u001b[0m \u001b[0mmessage\u001b[0m\u001b[0;34m,\u001b[0m \u001b[0mmax_doc_size\u001b[0m\u001b[0;34m)\u001b[0m\u001b[0;34m:\u001b[0m\u001b[0;34m\u001b[0m\u001b[0m\n",
      "\u001b[0;32m~/.venvs/lpthw/lib/python3.6/site-packages/pymongo/pool.py\u001b[0m in \u001b[0;36m_raise_connection_failure\u001b[0;34m(self, error)\u001b[0m\n\u001b[1;32m    743\u001b[0m             \u001b[0m_raise_connection_failure\u001b[0m\u001b[0;34m(\u001b[0m\u001b[0mself\u001b[0m\u001b[0;34m.\u001b[0m\u001b[0maddress\u001b[0m\u001b[0;34m,\u001b[0m \u001b[0merror\u001b[0m\u001b[0;34m)\u001b[0m\u001b[0;34m\u001b[0m\u001b[0m\n\u001b[1;32m    744\u001b[0m         \u001b[0;32melse\u001b[0m\u001b[0;34m:\u001b[0m\u001b[0;34m\u001b[0m\u001b[0m\n\u001b[0;32m--> 745\u001b[0;31m             \u001b[0;32mraise\u001b[0m \u001b[0merror\u001b[0m\u001b[0;34m\u001b[0m\u001b[0m\n\u001b[0m\u001b[1;32m    746\u001b[0m \u001b[0;34m\u001b[0m\u001b[0m\n\u001b[1;32m    747\u001b[0m     \u001b[0;32mdef\u001b[0m \u001b[0m__eq__\u001b[0m\u001b[0;34m(\u001b[0m\u001b[0mself\u001b[0m\u001b[0;34m,\u001b[0m \u001b[0mother\u001b[0m\u001b[0;34m)\u001b[0m\u001b[0;34m:\u001b[0m\u001b[0;34m\u001b[0m\u001b[0m\n",
      "\u001b[0;32m~/.venvs/lpthw/lib/python3.6/site-packages/pymongo/pool.py\u001b[0m in \u001b[0;36mcommand\u001b[0;34m(self, dbname, spec, slave_ok, read_preference, codec_options, check, allowable_errors, check_keys, read_concern, write_concern, parse_write_concern_error, collation, session, client, retryable_write, publish_events)\u001b[0m\n\u001b[1;32m    577\u001b[0m                            \u001b[0mcompression_ctx\u001b[0m\u001b[0;34m=\u001b[0m\u001b[0mself\u001b[0m\u001b[0;34m.\u001b[0m\u001b[0mcompression_context\u001b[0m\u001b[0;34m,\u001b[0m\u001b[0;34m\u001b[0m\u001b[0m\n\u001b[1;32m    578\u001b[0m                            \u001b[0muse_op_msg\u001b[0m\u001b[0;34m=\u001b[0m\u001b[0mself\u001b[0m\u001b[0;34m.\u001b[0m\u001b[0mop_msg_enabled\u001b[0m\u001b[0;34m,\u001b[0m\u001b[0;34m\u001b[0m\u001b[0m\n\u001b[0;32m--> 579\u001b[0;31m                            unacknowledged=unacknowledged)\n\u001b[0m\u001b[1;32m    580\u001b[0m         \u001b[0;32mexcept\u001b[0m \u001b[0mOperationFailure\u001b[0m\u001b[0;34m:\u001b[0m\u001b[0;34m\u001b[0m\u001b[0m\n\u001b[1;32m    581\u001b[0m             \u001b[0;32mraise\u001b[0m\u001b[0;34m\u001b[0m\u001b[0m\n",
      "\u001b[0;32m~/.venvs/lpthw/lib/python3.6/site-packages/pymongo/network.py\u001b[0m in \u001b[0;36mcommand\u001b[0;34m(sock, dbname, spec, slave_ok, is_mongos, read_preference, codec_options, session, client, check, allowable_errors, address, check_keys, listeners, max_bson_size, read_concern, parse_write_concern_error, collation, compression_ctx, use_op_msg, unacknowledged)\u001b[0m\n\u001b[1;32m    112\u001b[0m         request_id, msg, size, max_doc_size = message._op_msg(\n\u001b[1;32m    113\u001b[0m             \u001b[0mflags\u001b[0m\u001b[0;34m,\u001b[0m \u001b[0mspec\u001b[0m\u001b[0;34m,\u001b[0m \u001b[0mdbname\u001b[0m\u001b[0;34m,\u001b[0m \u001b[0mread_preference\u001b[0m\u001b[0;34m,\u001b[0m \u001b[0mslave_ok\u001b[0m\u001b[0;34m,\u001b[0m \u001b[0mcheck_keys\u001b[0m\u001b[0;34m,\u001b[0m\u001b[0;34m\u001b[0m\u001b[0m\n\u001b[0;32m--> 114\u001b[0;31m             codec_options, ctx=compression_ctx)\n\u001b[0m\u001b[1;32m    115\u001b[0m         \u001b[0;31m# If this is an unacknowledged write then make sure the encoded doc(s)\u001b[0m\u001b[0;34m\u001b[0m\u001b[0;34m\u001b[0m\u001b[0m\n\u001b[1;32m    116\u001b[0m         \u001b[0;31m# are small enough, otherwise rely on the server to return an error.\u001b[0m\u001b[0;34m\u001b[0m\u001b[0;34m\u001b[0m\u001b[0m\n",
      "\u001b[0;32m~/.venvs/lpthw/lib/python3.6/site-packages/pymongo/message.py\u001b[0m in \u001b[0;36m_op_msg\u001b[0;34m(flags, command, dbname, read_preference, slave_ok, check_keys, opts, ctx)\u001b[0m\n\u001b[1;32m    677\u001b[0m                 flags, command, identifier, docs, check_keys, opts, ctx)\n\u001b[1;32m    678\u001b[0m         return _op_msg_uncompressed(\n\u001b[0;32m--> 679\u001b[0;31m             flags, command, identifier, docs, check_keys, opts)\n\u001b[0m\u001b[1;32m    680\u001b[0m     \u001b[0;32mfinally\u001b[0m\u001b[0;34m:\u001b[0m\u001b[0;34m\u001b[0m\u001b[0m\n\u001b[1;32m    681\u001b[0m         \u001b[0;31m# Add the field back to the command.\u001b[0m\u001b[0;34m\u001b[0m\u001b[0;34m\u001b[0m\u001b[0m\n",
      "\u001b[0;31mInvalidDocument\u001b[0m: Cannot encode object: 0                                   Epistle to Henry II\n1                                   EPISTLE TO HENRY II\n2     TO THE MOST INVINCIBLE MOST POWERFUL AND MOST ...\n3     Ever since my long-beclouded face first presen...\n4     While I was seized with this singular desire t...\n5     It is to a most prudent and most wise Prince t...\n6     Indeed, someone, who would do well to blow his...\n7     Nevertheless, I wanted to leave a record in wr...\n8     I have calculated and composed all during choi...\n9     It is quite true, Sire, that my natural instin...\n10    There are some who would attribute to me that ...\n11    Notwithstanding those who cannot contain the m...\n12    Such is the extent of time past, subject to co...\n13    Although my calculations may not hold good for...\n14    As for myself, I would never claim such a titl...\n15    For God will take notice of the long barrennes...\n16    There will be great differences between the th...\n17    The oldest one will rule the land whose escutc...\n18    The one second in age, accompanied by the Lati...\n19    The daughter will be given for the preservatio...\n20    The unfaithful son, who, to his great confusio...\n21    And all will render the homage of ancient reli...\n22    In nature they will be equal, but very differe...\n23    After this the barren Dame, of greater power t...\n24    The third people will extend their forces towa...\n25    Then the great Empire of the Antichrist will b...\n26    This will be preceded by a solar eclipse more ...\n27    In the spring there will be omens, and thereaf...\n28    Then there will issue from the stock which had...\n29    The countries, towns, cities, realms and provi...\n                            ...                        \n33    Then the impurities and abominations, with a g...\n34    The supporting common people will rise up and ...\n35    Then will commence a persecution of the Church...\n36    And a new incursion will be made by the mariti...\n37    The sepulcher, for long an object of such grea...\n38    For hereupon the principal Eastern chief will ...\n39    What great oppression will then fall upon the ...\n40    Then the Lords of \"Aquilon\" [the North], two i...\n41    By this discourse, Sire, I present these predi...\n42    Anyhow, I count the years from the creation of...\n43    I have calculated the present prophecies accor...\n44    But not everywhere. It will mark the commencem...\n45    After this the Roman people will begin to re-e...\n46    At that time the great sails of Byzantium, all...\n47    It will be at this time and in these countries...\n48    The said reign of the Antichrist will last onl...\n49    The Gallic Ogmios will be accompanied by so gr...\n50    Once again Satan will be bound, universal peac...\n51    In the Epistle that some years ago I dedicated...\n52    During this astrological supputation, harmoniz...\n53    Thereupon the same thing will occur in the Sou...\n54    One of the horrible temporal Kings will be tol...\n55    Then, in this same year, and in those followin...\n56    Thereupon the third King of \"Aquilon\" [the Nor...\n57    After that Antichrist will be the infernal pri...\n58    After this has endured for a long time, there ...\n59    All these figures represent the just integrati...\n60    Many events, most powerful of all Kings, of th...\n61    But I shall only beseech you, Most Clement Kin...\n62    Done by Michel Nostradamus at Salon-de-Crau in...\nName: 0, Length: 63, dtype: object"
     ]
    }
   ],
   "source": [
    "doc = {'epistle_henry_ii': pd.read_csv('./nostradamus_docs/nostradamus_epistle_henry_2.txt', sep = '\\t', header = None)[0]}\n",
    "col.insert_one(doc)"
   ]
  },
  {
   "cell_type": "code",
   "execution_count": null,
   "metadata": {},
   "outputs": [],
   "source": [
    "doc = {'preface': pd.read_csv('./nostradamus_docs/nostradamus_preface.txt', sep = '\\t', header = None)[0]}\n",
    "col.insert_one(doc)"
   ]
  },
  {
   "cell_type": "code",
   "execution_count": null,
   "metadata": {
    "scrolled": true
   },
   "outputs": [],
   "source": [
    "col.estimated_document_count()"
   ]
  },
  {
   "cell_type": "code",
   "execution_count": null,
   "metadata": {},
   "outputs": [],
   "source": [
    "# for doc in col.find():\n",
    "#     print(doc)"
   ]
  },
  {
   "cell_type": "code",
   "execution_count": 27,
   "metadata": {},
   "outputs": [],
   "source": [
    "df = pd.DataFrame(list(col.find()))\n",
    "df.drop('_id', axis = 1, inplace = True)"
   ]
  },
  {
   "cell_type": "code",
   "execution_count": 28,
   "metadata": {},
   "outputs": [],
   "source": [
    "substitutions = {'african': 'africa', 'barbaric': 'barbarian', 'blood': 'bleed', 'bloody': 'bleed',\n",
    "                 'bled': 'bleed', 'burnt': 'burn', 'captive': 'capture', 'captive': 'captured',\n",
    "                 'children': 'child', 'complaints': 'complain', 'dead': 'die', 'death': 'die',\n",
    "                 'deceive': 'deceit', 'depth': 'deep', 'defense': 'defend', 'destruction': 'destroy',\n",
    "                 'discovered': 'discover', 'discoveries': 'discover', 'discovery': 'discover',\n",
    "                 'doubly': 'double', 'drawn': 'draw', 'dreamer': 'dream', 'driven': 'drive',\n",
    "                 'drunken': 'drunk', 'eastern': 'east', 'eaten': 'eat', 'enclosed': 'enclose',\n",
    "                 'enclosure': 'enclose', 'entry': 'enter', 'envied': 'envy', 'envious': 'envy',\n",
    "                 'executioners': 'execute', 'extension': 'extend', 'falsify': 'false', 'failure': 'fail',\n",
    "                 'flight': 'flies', 'florense': 'florence', 'french': 'france', 'fraudulent': 'fraud',\n",
    "                 'friendship': 'friend', 'frightful': 'frighten', 'frost': 'freeze', 'frozen': 'freeze',\n",
    "                 'furious': 'fury', 'gascony': 'gascon', 'genevans': 'geneva', 'gnashing': 'gnaw',\n",
    "                 'governor': 'govern', 'greedy': 'greed', 'germany': 'german', 'golden': 'gold',\n",
    "                 'greatest': 'great', 'greater': 'great', 'halfway': 'half', 'healthy': 'health',\n",
    "                 'hairy': 'hair', 'hardships': 'hard', 'hatred': 'hate', 'heard': 'hear', 'higher': 'high',\n",
    "                 'highest': 'high', 'household': 'house', 'hungarians': 'hungary', 'impetuosity': 'impetuous',\n",
    "                 'injured': 'injure', 'italian': 'italy', 'judges': 'judge', 'judgement': 'judge',\n",
    "                 'kingdom': 'king', 'larger': 'large', 'later': 'late', 'leadership': 'lead', 'leader': 'lead',\n",
    "                 'leaderless': 'lead', 'leaguers': 'league', 'longer': 'long', 'loss': 'lose',\n",
    "                 'lost': 'lose', 'lower': 'low', 'lowest': 'low', 'lover': 'love', 'lusitanian': 'lusitania',\n",
    "                 'macedonian': 'macedonia', 'mankind': 'man', 'marriage': 'marry', 'maritime': 'marine',\n",
    "                 'mightily': 'mighty', 'newly': 'new', 'older': 'old', 'oldest': 'old', 'oppose': 'opposite',\n",
    "                 'pleasing': 'pleasure', 'philosophers': 'philosophy', 'provincial': 'province',\n",
    "                 'pursuers': 'pursue', 'pursuit': 'pursue', 'robbery': 'rob', 'robber': 'rob',\n",
    "                 'redden': 'red', 'redbeard': 'red', 'remainder': 'remain', 'revolutions': 'revolt',\n",
    "                 'robbed': 'rob', 'shadow': 'shade', 'seventh': 'seven', 'shorter': 'short',\n",
    "                 'smaller': 'small', 'soldiery': 'soldiers', 'sovereignty': 'sovereign', 'spacious': 'space',\n",
    "                 'spanish': 'spain', 'spaniards': 'spain', 'strongest': 'strong', 'stronghold': 'strong',\n",
    "                 'survivor': 'survive', 'swampy': 'swamps', 'sprung': 'spring', 'taken': 'take',\n",
    "                 'taker': 'take', 'terrified': 'terror', 'terrible': 'terror', 'thirsty': 'thirst',\n",
    "                 'thought': 'think', 'threatens': 'threat', 'toulousans': 'toulouse', 'thunderbolt': 'thunder',\n",
    "                 'treacherous': 'treachery', 'trickery': 'trick', 'tuscany': 'tuscan', 'twentieth': 'twenty',\n",
    "                 'tyrant': 'tyranny', 'victorious': 'victor', 'victory': 'victor', 'violent': 'violence',\n",
    "                 'younger': 'young', 'warlike': 'war', 'weak': 'weaken', 'weaker': 'weaken', 'wives': 'wife',\n",
    "                 'wooden': 'wood', 'worldwide': 'world', 'worthy': 'worth', 'youth': 'young'}\n",
    "\n",
    "df['prophecy'] = deepcopy(replace(df['prophecy'], substitutions))\n",
    "h2_df[0] = deepcopy(replace(h2_df[0], substitutions))\n",
    "pre_df[0] = deepcopy(replace(pre_df[0], substitutions))"
   ]
  },
  {
   "cell_type": "code",
   "execution_count": 29,
   "metadata": {},
   "outputs": [
    {
     "data": {
      "text/html": [
       "<div>\n",
       "<style scoped>\n",
       "    .dataframe tbody tr th:only-of-type {\n",
       "        vertical-align: middle;\n",
       "    }\n",
       "\n",
       "    .dataframe tbody tr th {\n",
       "        vertical-align: top;\n",
       "    }\n",
       "\n",
       "    .dataframe thead th {\n",
       "        text-align: right;\n",
       "    }\n",
       "</style>\n",
       "<table border=\"1\" class=\"dataframe\">\n",
       "  <thead>\n",
       "    <tr style=\"text-align: right;\">\n",
       "      <th></th>\n",
       "      <th>century</th>\n",
       "      <th>prophecy</th>\n",
       "      <th>prophecy_num</th>\n",
       "    </tr>\n",
       "  </thead>\n",
       "  <tbody>\n",
       "    <tr>\n",
       "      <th>0</th>\n",
       "      <td>1.0</td>\n",
       "      <td>Sitting alone at night in secret study;  it is...</td>\n",
       "      <td>1.0</td>\n",
       "    </tr>\n",
       "    <tr>\n",
       "      <th>1</th>\n",
       "      <td>1.0</td>\n",
       "      <td>The wand in the hand is placed in the middle o...</td>\n",
       "      <td>2.0</td>\n",
       "    </tr>\n",
       "    <tr>\n",
       "      <th>2</th>\n",
       "      <td>1.0</td>\n",
       "      <td>When the litters are overturned by the whirlwi...</td>\n",
       "      <td>3.0</td>\n",
       "    </tr>\n",
       "    <tr>\n",
       "      <th>3</th>\n",
       "      <td>1.0</td>\n",
       "      <td>In the world there will be made a king  who wi...</td>\n",
       "      <td>4.0</td>\n",
       "    </tr>\n",
       "    <tr>\n",
       "      <th>4</th>\n",
       "      <td>1.0</td>\n",
       "      <td>They will be drive away for a long draw out fi...</td>\n",
       "      <td>5.0</td>\n",
       "    </tr>\n",
       "  </tbody>\n",
       "</table>\n",
       "</div>"
      ],
      "text/plain": [
       "   century                                           prophecy  prophecy_num\n",
       "0      1.0  Sitting alone at night in secret study;  it is...           1.0\n",
       "1      1.0  The wand in the hand is placed in the middle o...           2.0\n",
       "2      1.0  When the litters are overturned by the whirlwi...           3.0\n",
       "3      1.0  In the world there will be made a king  who wi...           4.0\n",
       "4      1.0  They will be drive away for a long draw out fi...           5.0"
      ]
     },
     "execution_count": 29,
     "metadata": {},
     "output_type": "execute_result"
    }
   ],
   "source": [
    "df.head()"
   ]
  },
  {
   "cell_type": "code",
   "execution_count": 30,
   "metadata": {},
   "outputs": [
    {
     "data": {
      "text/html": [
       "<div>\n",
       "<style scoped>\n",
       "    .dataframe tbody tr th:only-of-type {\n",
       "        vertical-align: middle;\n",
       "    }\n",
       "\n",
       "    .dataframe tbody tr th {\n",
       "        vertical-align: top;\n",
       "    }\n",
       "\n",
       "    .dataframe thead th {\n",
       "        text-align: right;\n",
       "    }\n",
       "</style>\n",
       "<table border=\"1\" class=\"dataframe\">\n",
       "  <thead>\n",
       "    <tr style=\"text-align: right;\">\n",
       "      <th></th>\n",
       "      <th>group</th>\n",
       "      <th>0</th>\n",
       "    </tr>\n",
       "  </thead>\n",
       "  <tbody>\n",
       "    <tr>\n",
       "      <th>0</th>\n",
       "      <td>1</td>\n",
       "      <td>TO THE MOST INVINCIBLE MOST POWERFUL AND MOST ...</td>\n",
       "    </tr>\n",
       "  </tbody>\n",
       "</table>\n",
       "</div>"
      ],
      "text/plain": [
       "   group                                                  0\n",
       "0      1  TO THE MOST INVINCIBLE MOST POWERFUL AND MOST ..."
      ]
     },
     "execution_count": 30,
     "metadata": {},
     "output_type": "execute_result"
    }
   ],
   "source": [
    "h2_df"
   ]
  },
  {
   "cell_type": "code",
   "execution_count": 31,
   "metadata": {},
   "outputs": [],
   "source": [
    "df.to_pickle('prophecy_df.pkl')\n",
    "h2_df.to_pickle('h2_df.pkl')\n",
    "pre_df.to_pickle('pre_df.pkl')"
   ]
  },
  {
   "cell_type": "code",
   "execution_count": null,
   "metadata": {},
   "outputs": [],
   "source": []
  }
 ],
 "metadata": {
  "kernelspec": {
   "display_name": "Python 3",
   "language": "python",
   "name": "python3"
  },
  "language_info": {
   "codemirror_mode": {
    "name": "ipython",
    "version": 3
   },
   "file_extension": ".py",
   "mimetype": "text/x-python",
   "name": "python",
   "nbconvert_exporter": "python",
   "pygments_lexer": "ipython3",
   "version": "3.6.4"
  }
 },
 "nbformat": 4,
 "nbformat_minor": 2
}
